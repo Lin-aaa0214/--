{
 "cells": [
  {
   "cell_type": "markdown",
   "metadata": {},
   "source": [
    "# 作業\n",
    "- 兩個禮拜後的晚上交\n",
    "\n",
    "題目：於「主成分分析原理與實驗網頁」的習題 1  與習題 2 （有時間、有興趣者也可以加入習題 3）\n",
    "\n",
    "製作方式：\n",
    "\n",
    "1. 寫一個 ipynb 檔案（示範檔案如附件）\n",
    "2. 開頭依序寫上作品名稱（Title）、學號、姓名、作品目標（Objective）。\n",
    "3. 寫作方式如附件 homework_demo.ipynb 所示。\n",
    "4. 題目的表達可以依自己的文字書寫，不一定照抄網頁上的題目。\n",
    "5. 對每一個子題的結果，進行說明與討論。\n",
    "6. 請勿遲交。\n",
    "作業上傳：兩個檔案含 ipynb 檔與轉換過的 PDF 檔。請留意檔名的命名。"
   ]
  },
  {
   "cell_type": "markdown",
   "metadata": {},
   "source": [
    "$X_p$ 經過 linear transformation to $Z_p$的好處\n",
    "\n",
    "1. 降維\n",
    "\n",
    "壞處\n",
    "1. 只採\"部分\"訊息，可能是70%...之類的(取決於解釋變異)，學習效果\"可能\"不好。"
   ]
  },
  {
   "cell_type": "markdown",
   "metadata": {},
   "source": [
    "## 在pdf處理隱藏cells\n",
    "\n",
    "1. 在TERMINAL旁邊開啟CELL TAGS\n",
    "2. 選 Add cell Tag ，新增\"remove\"\n",
    "3. 在power shell 輸入以下指令\n",
    "\n",
    "```\n",
    "cd 淺度\n",
    "\n",
    "jupyter nbconvert --to pdf --TagRemovePreprocessor.remove_input_tags='[\"remove\"]' --TagRemovePreprocessor.remove_output_tags='[\"remove\"]' 檔名.ipynb\n",
    "```"
   ]
  },
  {
   "cell_type": "code",
   "execution_count": null,
   "metadata": {},
   "outputs": [],
   "source": []
  },
  {
   "cell_type": "code",
   "execution_count": null,
   "metadata": {},
   "outputs": [],
   "source": []
  }
 ],
 "metadata": {
  "kernelspec": {
   "display_name": "data_env",
   "language": "python",
   "name": "python3"
  },
  "language_info": {
   "name": "python",
   "version": "3.12.5"
  }
 },
 "nbformat": 4,
 "nbformat_minor": 2
}
